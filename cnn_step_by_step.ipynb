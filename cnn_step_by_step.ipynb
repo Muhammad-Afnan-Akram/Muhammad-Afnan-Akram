{
  "cells": [
    {
      "cell_type": "markdown",
      "metadata": {
        "id": "view-in-github",
        "colab_type": "text"
      },
      "source": [
        "<a href=\"https://colab.research.google.com/github/Muhammad-Afnan-Akram/Muhammad-Afnan-Akram/blob/main/cnn_step_by_step.ipynb\" target=\"_parent\"><img src=\"https://colab.research.google.com/assets/colab-badge.svg\" alt=\"Open In Colab\"/></a>"
      ]
    },
    {
      "cell_type": "markdown",
      "id": "3acdbd11",
      "metadata": {
        "id": "3acdbd11"
      },
      "source": [
        "# CNN step-by-step demo\n",
        "\n",
        "This notebook demonstrates a single-channel CNN pipeline step-by-step: convolution (different strides and paddings), pooling, flatten, and a tiny fully-connected layer. Each step shows the matrix outputs so it's easy to follow."
      ]
    },
    {
      "cell_type": "markdown",
      "source": [
        "**1. Kernel (Filter)**\n",
        "A small matrix (e.g., 3×3) that slides over the input image to extract features like edges or textures.\n",
        "Example: an edge-detection kernel highlights image boundaries.\n",
        "\n",
        "**2. Stride**\n",
        "The step size the kernel moves across the image.\n",
        "Larger stride → smaller output feature map (less detail).\n",
        "\n",
        "**3. Padding**\n",
        "Adding extra pixels (zeros) around the image border.\n",
        "Prevents shrinking of feature maps and preserves edge information.\n",
        "\n",
        "**4. Pooling (Downsampling)**\n",
        "Reduces feature map size while keeping important features.\n",
        "Max Pooling picks the strongest signal, Average Pooling smooths it.\n",
        "\n",
        "**5. Flatten**\n",
        "Converts multi-dimensional feature maps into a 1D vector.\n",
        "Example: from 7×7×64 into a single vector before feeding Dense layers."
      ],
      "metadata": {
        "id": "Rq_HrKfwk_2A"
      },
      "id": "Rq_HrKfwk_2A"
    },
    {
      "cell_type": "markdown",
      "source": [
        "Output = [(input + kernal +2Padding) /Stride] +1\n",
        "\n",
        "![image.png](data:image/png;base64,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)"
      ],
      "metadata": {
        "id": "i4o9Bn_clRlq"
      },
      "id": "i4o9Bn_clRlq"
    },
    {
      "cell_type": "markdown",
      "source": [
        "Explanation of Each Term\n",
        "\n",
        "Input_Size → The width/height of the input image (e.g., 32 for a 32×32 image).\n",
        "\n",
        "Kernel_Size → The size of the filter (e.g., 3 for a 3×3 kernel).\n",
        "\n",
        "Padding → Extra pixels added around the image (0 = no padding).\n",
        "\n",
        "Stride → Step size of the kernel when sliding over the input.\n",
        "\n",
        "+1 → Ensures that even the first kernel placement is counted as one valid output.\n",
        "\n",
        "✅ Example\n",
        "\n",
        "Suppose:\n",
        "\n",
        "Input = 5 × 5\n",
        "\n",
        "Kernel = 3 × 3\n",
        "\n",
        "Padding = 0 (valid padding)\n",
        "\n",
        "Stride = 1\n",
        "\n",
        "So, the output feature map will be 3 × 3."
      ],
      "metadata": {
        "id": "G7Xpt9Wrlxh8"
      },
      "id": "G7Xpt9Wrlxh8"
    },
    {
      "cell_type": "code",
      "execution_count": 11,
      "id": "00f663c0",
      "metadata": {
        "id": "00f663c0"
      },
      "outputs": [],
      "source": [
        "import numpy as np\n",
        "import matplotlib.pyplot as plt\n",
        "np.set_printoptions(precision=2, suppress=True)\n",
        "\n",
        "def conv2d(inp, kernel, stride=1, padding=0):\n",
        "    if padding > 0:\n",
        "        inp_p = np.pad(inp, ((padding,padding),(padding,padding)), mode='constant', constant_values=0)\n",
        "    else:\n",
        "        inp_p = inp.copy()\n",
        "    kH, kW = kernel.shape\n",
        "    out_h = (inp_p.shape[0] - kH) // stride + 1\n",
        "    out_w = (inp_p.shape[1] - kW) // stride + 1\n",
        "    out = np.zeros((out_h, out_w), dtype=int)\n",
        "    for i in range(out_h):\n",
        "        for j in range(out_w):\n",
        "            patch = inp_p[i*stride : i*stride + kH, j*stride : j*stride + kW]\n",
        "            out[i, j] = int(np.sum(patch * kernel))\n",
        "    return out\n",
        "\n",
        "def max_pool2d(inp, pool_size=2, stride=2):\n",
        "    out_h = (inp.shape[0] - pool_size) // stride + 1\n",
        "    out_w = (inp.shape[1] - pool_size) // stride + 1\n",
        "    out = np.zeros((out_h, out_w), dtype=inp.dtype)\n",
        "    for i in range(out_h):\n",
        "        for j in range(out_w):\n",
        "            patch = inp[i*stride : i*stride + pool_size, j*stride : j*stride + pool_size]\n",
        "            out[i, j] = patch.max()\n",
        "    return out\n",
        "\n",
        "def flatten(mat):\n",
        "    return mat.reshape(-1, order='C')\n",
        "\n",
        "def softmax(x):\n",
        "    e = np.exp(x - np.max(x))\n",
        "    return e / e.sum()\n",
        "\n",
        "# Example input\n",
        "image = np.array([\n",
        "    [3, 0, 1, 2, 7, 4, 0, 1],\n",
        "    [1, 5, 8, 9, 3, 1, 2, 3],\n",
        "    [2, 7, 2, 5, 1, 3, 0, 2],\n",
        "    [4, 6, 5, 9, 2, 7, 3, 1],\n",
        "    [3, 1, 2, 6, 8, 0, 1, 4],\n",
        "    [1, 2, 3, 4, 5, 6, 7, 8],\n",
        "    [8, 7, 6, 5, 4, 3, 2, 1],\n",
        "    [1, 0, 2, 3, 4, 5, 6, 7]\n",
        "], dtype=int)\n",
        "\n",
        "kernel = np.array([\n",
        "    [1, 0, -1],\n",
        "    [1, 0, -1],\n",
        "    [1, 0, -1]\n",
        "], dtype=int)\n",
        "\n"
      ]
    },
    {
      "cell_type": "code",
      "source": [
        "print(\"Input image:\\n\", image)\n",
        "print(\"\\nKernel:\\n\", kernel)"
      ],
      "metadata": {
        "colab": {
          "base_uri": "https://localhost:8080/"
        },
        "id": "l64kbpmwj8af",
        "outputId": "d8f6eee6-901a-4d39-a067-ea34965b8157"
      },
      "id": "l64kbpmwj8af",
      "execution_count": 12,
      "outputs": [
        {
          "output_type": "stream",
          "name": "stdout",
          "text": [
            "Input image:\n",
            " [[3 0 1 2 7 4 0 1]\n",
            " [1 5 8 9 3 1 2 3]\n",
            " [2 7 2 5 1 3 0 2]\n",
            " [4 6 5 9 2 7 3 1]\n",
            " [3 1 2 6 8 0 1 4]\n",
            " [1 2 3 4 5 6 7 8]\n",
            " [8 7 6 5 4 3 2 1]\n",
            " [1 0 2 3 4 5 6 7]]\n",
            "\n",
            "Kernel:\n",
            " [[ 1  0 -1]\n",
            " [ 1  0 -1]\n",
            " [ 1  0 -1]]\n"
          ]
        }
      ]
    },
    {
      "cell_type": "markdown",
      "id": "490405bf",
      "metadata": {
        "id": "490405bf"
      },
      "source": [
        "## Diagram\n",
        "\n",
        "The notebook also contains a small diagram illustrating the flow: Input → Conv → Pool → Flatten → FC."
      ]
    },
    {
      "cell_type": "code",
      "source": [
        "conv_s1 = conv2d(image, kernel, stride=1, padding=0)\n",
        "print(\"\\nConvolution (stride=1, padding=0) output:\\n\", conv_s1)\n"
      ],
      "metadata": {
        "colab": {
          "base_uri": "https://localhost:8080/"
        },
        "id": "WDhGQZT1kHWp",
        "outputId": "8ce83bfa-0096-43a0-995c-dc29f766498b"
      },
      "id": "WDhGQZT1kHWp",
      "execution_count": 13,
      "outputs": [
        {
          "output_type": "stream",
          "name": "stdout",
          "text": [
            "\n",
            "Convolution (stride=1, padding=0) output:\n",
            " [[ -5  -4   0   8   9   2]\n",
            " [ -8  -5   9  12   1   5]\n",
            " [  0  -6  -2  10   7   3]\n",
            " [ -2 -10  -5   6   4   0]\n",
            " [  1  -5  -6   6   7  -4]\n",
            " [ -1  -3  -2  -2  -2  -2]]\n"
          ]
        }
      ]
    },
    {
      "cell_type": "code",
      "source": [
        "conv_s2 = conv2d(image, kernel, stride=2, padding=0)\n",
        "print(\"\\nConvolution (stride=2, padding=0) output:\\n\", conv_s2)"
      ],
      "metadata": {
        "colab": {
          "base_uri": "https://localhost:8080/"
        },
        "id": "9usf0NU9kdCu",
        "outputId": "650718c0-5d63-48d5-8e23-c2362b3c447f"
      },
      "id": "9usf0NU9kdCu",
      "execution_count": 14,
      "outputs": [
        {
          "output_type": "stream",
          "name": "stdout",
          "text": [
            "\n",
            "Convolution (stride=2, padding=0) output:\n",
            " [[-5  0  9]\n",
            " [ 0 -2  7]\n",
            " [ 1 -6  7]]\n"
          ]
        }
      ]
    },
    {
      "cell_type": "code",
      "source": [
        "conv_pad1 = conv2d(image, kernel, stride=1, padding=1)\n",
        "print(\"\\nConvolution (stride=1, padding=1) output:\\n\", conv_pad1)\n"
      ],
      "metadata": {
        "colab": {
          "base_uri": "https://localhost:8080/"
        },
        "id": "OxCTjyHykd4t",
        "outputId": "4494dbc4-db0a-4753-e975-0bca6ddda959"
      },
      "id": "OxCTjyHykd4t",
      "execution_count": 15,
      "outputs": [
        {
          "output_type": "stream",
          "name": "stdout",
          "text": [
            "\n",
            "Convolution (stride=1, padding=1) output:\n",
            " [[ -5  -5  -6  -1   6   8   1   2]\n",
            " [-12  -5  -4   0   8   9   2   2]\n",
            " [-18  -8  -5   9  12   1   5   5]\n",
            " [-14   0  -6  -2  10   7   3   4]\n",
            " [ -9  -2 -10  -5   6   4   0  11]\n",
            " [-10   1  -5  -6   6   7  -4  10]\n",
            " [ -9  -1  -3  -2  -2  -2  -2  15]\n",
            " [ -7   1  -1   0   0   0   0   8]]\n"
          ]
        }
      ]
    },
    {
      "cell_type": "code",
      "source": [
        "pool = max_pool2d(conv_s1, pool_size=2, stride=2)\n",
        "print(\"\\nMax pooling (2x2) on conv_s1 output:\\n\", pool)\n",
        "\n"
      ],
      "metadata": {
        "colab": {
          "base_uri": "https://localhost:8080/"
        },
        "id": "QjnaoyrIkzfr",
        "outputId": "8931f4c6-7246-4771-fc3a-4ea2a201804b"
      },
      "id": "QjnaoyrIkzfr",
      "execution_count": 16,
      "outputs": [
        {
          "output_type": "stream",
          "name": "stdout",
          "text": [
            "\n",
            "Max pooling (2x2) on conv_s1 output:\n",
            " [[-4 12  9]\n",
            " [ 0 10  7]\n",
            " [ 1  6  7]]\n"
          ]
        }
      ]
    },
    {
      "cell_type": "code",
      "source": [
        "flat = flatten(pool)\n",
        "print(\"\\nFlattened vector:\\n\", flat)"
      ],
      "metadata": {
        "colab": {
          "base_uri": "https://localhost:8080/"
        },
        "id": "fd-hHKmmk3qL",
        "outputId": "3054e9d6-f1d3-4bae-ccd4-8e52c3bf10b7"
      },
      "id": "fd-hHKmmk3qL",
      "execution_count": 17,
      "outputs": [
        {
          "output_type": "stream",
          "name": "stdout",
          "text": [
            "\n",
            "Flattened vector:\n",
            " [-4 12  9  0 10  7  1  6  7]\n"
          ]
        }
      ]
    },
    {
      "cell_type": "code",
      "source": [
        "# Tiny FC example\n",
        "num_outputs = 6\n",
        "W = np.arange(1, num_outputs * flat.size + 1).reshape(num_outputs, flat.size)\n",
        "b = np.arange(1, num_outputs + 1)\n",
        "fc = W.dot(flat) + b\n",
        "print(\"\\nFully connected (pre-softmax):\\n\", fc)"
      ],
      "metadata": {
        "colab": {
          "base_uri": "https://localhost:8080/"
        },
        "id": "MYWlZFNWk5zc",
        "outputId": "dceb2328-dcc4-4a31-8adb-e87a8deddf4b"
      },
      "id": "MYWlZFNWk5zc",
      "execution_count": 18,
      "outputs": [
        {
          "output_type": "stream",
          "name": "stdout",
          "text": [
            "\n",
            "Fully connected (pre-softmax):\n",
            " [ 258  691 1124 1557 1990 2423]\n"
          ]
        }
      ]
    },
    {
      "cell_type": "code",
      "source": [],
      "metadata": {
        "id": "V4uX8KvDk6eC"
      },
      "id": "V4uX8KvDk6eC",
      "execution_count": 18,
      "outputs": []
    }
  ],
  "metadata": {
    "colab": {
      "provenance": [],
      "include_colab_link": true
    },
    "language_info": {
      "name": "python"
    },
    "kernelspec": {
      "name": "python3",
      "display_name": "Python 3"
    }
  },
  "nbformat": 4,
  "nbformat_minor": 5
}